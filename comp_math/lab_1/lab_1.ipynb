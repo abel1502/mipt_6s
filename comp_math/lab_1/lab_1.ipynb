{
 "cells": [
  {
   "cell_type": "code",
   "execution_count": 187,
   "metadata": {},
   "outputs": [],
   "source": [
    "from __future__ import annotations\n",
    "import typing\n",
    "from dataclasses import dataclass\n",
    "import warnings\n",
    "from contextlib import contextmanager"
   ]
  },
  {
   "cell_type": "code",
   "execution_count": 188,
   "metadata": {},
   "outputs": [],
   "source": [
    "import numpy as np"
   ]
  },
  {
   "cell_type": "code",
   "execution_count": 189,
   "metadata": {},
   "outputs": [],
   "source": [
    "@contextmanager\n",
    "def localize_globals(*exceptions: str, restore_values: bool = True):\n",
    "    exceptions: typing.Set[str] = set(exceptions)\n",
    "\n",
    "    old_globals: typing.Dict[str, typing.Any] = dict(globals())\n",
    "    allowed: typing.Set[str] = set(old_globals.keys())\n",
    "    allowed.update(exceptions)\n",
    "\n",
    "    yield None\n",
    "\n",
    "    new_globals: typing.Dict[str, typing.Any] = globals()\n",
    "\n",
    "    for name in tuple(new_globals.keys()):\n",
    "        if name not in allowed:\n",
    "            del new_globals[name]\n",
    "    \n",
    "    if not restore_values:\n",
    "        return\n",
    "    \n",
    "    new_globals.update(\n",
    "        {k: v for k, v in old_globals.items() if k not in exceptions}\n",
    "    )"
   ]
  },
  {
   "cell_type": "code",
   "execution_count": 190,
   "metadata": {},
   "outputs": [],
   "source": [
    "@dataclass(frozen=True)\n",
    "class Equation:\n",
    "    A: np.ndarray\n",
    "    b: np.ndarray\n",
    "    \n",
    "    @staticmethod\n",
    "    def random(size: int) -> Equation:\n",
    "        A: np.ndarray = np.random.rand(size, size)\n",
    "        b: np.ndarray = np.random.rand(size)\n",
    "        \n",
    "        return Equation(A, b)\n",
    "    \n",
    "    @staticmethod\n",
    "    def random_many(size: int, *, count: int) -> typing.Iterable[Equation]:\n",
    "        return (Equation.random(size) for _ in range(count))"
   ]
  },
  {
   "cell_type": "code",
   "execution_count": 191,
   "metadata": {},
   "outputs": [],
   "source": [
    "@dataclass(frozen=True)\n",
    "class Solution:\n",
    "    L: np.ndarray\n",
    "    U: np.ndarray\n",
    "    Q: np.ndarray\n",
    "    x: np.ndarray"
   ]
  },
  {
   "cell_type": "code",
   "execution_count": 192,
   "metadata": {},
   "outputs": [],
   "source": [
    "def matrix_swap(arr: np.ndarray, i: int, j: int,\n",
    "                axis: int = 0) -> None:\n",
    "    if i == j:\n",
    "        return\n",
    "    \n",
    "    # Doesn't affect the contents\n",
    "    arr = arr.swapaxes(0, axis)\n",
    "    \n",
    "    arr[[i, j]] = arr[[j, i]]"
   ]
  },
  {
   "cell_type": "code",
   "execution_count": 193,
   "metadata": {},
   "outputs": [],
   "source": [
    "def solve_gauss(equation: Equation) -> Solution:\n",
    "    A: np.ndarray = equation.A\n",
    "    b: np.ndarray = equation.b\n",
    "    \n",
    "    assert len(A.shape) == 2\n",
    "    assert len(b.shape) == 1\n",
    "    assert A.shape[0] == A.shape[1] == b.shape[0]\n",
    "    \n",
    "    size: int = A.shape[0]\n",
    "    \n",
    "    L: np.ndarray = np.eye(size)\n",
    "    U: np.ndarray = A.copy()\n",
    "    Q: np.ndarray = np.eye(size)\n",
    "    \n",
    "    for row_idx in range(size):\n",
    "        pivot: int = np.argmax(np.abs(U[row_idx:, row_idx])) + row_idx\n",
    "        \n",
    "        matrix_swap(U, row_idx, pivot, axis=1)\n",
    "        matrix_swap(Q, row_idx, pivot, axis=1)\n",
    "        \n",
    "        normalization_coeff: float = U[row_idx, row_idx]\n",
    "        if np.abs(normalization_coeff) < 1e-10:\n",
    "            warnings.warn(\"Matrix is close to singular\")\n",
    "        \n",
    "        # L_cur: np.ndarray = np.eye(size)\n",
    "        \n",
    "        for other_row_idx in range(row_idx + 1, size):\n",
    "            row_coeff: float = U[other_row_idx, row_idx] / normalization_coeff\n",
    "            U[other_row_idx] -= U[row_idx] * row_coeff\n",
    "            L[other_row_idx, row_idx] += row_coeff\n",
    "        # L = L @ L_cur\n",
    "    \n",
    "    # Now A @ Q = L @ U\n",
    "    # L @ U @ Q.T @ x = b\n",
    "    \n",
    "    result_l: np.ndarray = solve_triangular(Equation(L, b), lower=True)\n",
    "    result_u: np.ndarray = solve_triangular(Equation(U, result_l), lower=False)\n",
    "    x: np.ndarray = Q @ result_u\n",
    "    \n",
    "    return Solution(L, U, Q, x)\n",
    "\n",
    "\n",
    "def solve_triangular(equation: Equation, lower: bool = False) -> np.ndarray:\n",
    "    A: np.ndarray = equation.A\n",
    "    b: np.ndarray = equation.b\n",
    "    \n",
    "    assert len(A.shape) == 2\n",
    "    assert len(b.shape) == 1\n",
    "    assert A.shape[0] == A.shape[1] == b.shape[0]\n",
    "    \n",
    "    size: int = A.shape[0]\n",
    "    \n",
    "    x: np.ndarray = np.zeros(size)\n",
    "    \n",
    "    for row_idx in range(size):\n",
    "        if not lower:\n",
    "            row_idx = size - 1 - row_idx\n",
    "        \n",
    "        coeff: float = A[row_idx, row_idx]\n",
    "        if np.abs(coeff) < 1e-10:\n",
    "            warnings.warn(\"Matrix is close to singular\")\n",
    "        \n",
    "        x[row_idx] = (b[row_idx] - A[row_idx] @ x) / coeff\n",
    "        \n",
    "    return x"
   ]
  },
  {
   "cell_type": "code",
   "execution_count": 194,
   "metadata": {},
   "outputs": [],
   "source": [
    "np.random.seed(42)\n",
    "equation: Equation = Equation.random(4)"
   ]
  },
  {
   "cell_type": "code",
   "execution_count": 195,
   "metadata": {},
   "outputs": [],
   "source": [
    "true_solution: np.ndarray = np.linalg.solve(equation.A, equation.b)"
   ]
  },
  {
   "cell_type": "code",
   "execution_count": 196,
   "metadata": {},
   "outputs": [
    {
     "data": {
      "text/plain": [
       "Solution(L=array([[ 1.        ,  0.        ,  0.        ,  0.        ],\n",
       "       [ 1.44686189,  1.        ,  0.        ,  0.        ],\n",
       "       [ 1.62013882,  0.68239209,  1.        ,  0.        ],\n",
       "       [ 0.30635916,  0.06471274, -0.04634386,  1.        ]]), U=array([[ 5.98658484e-01,  9.50714306e-01,  7.31993942e-01,\n",
       "         3.74540119e-01],\n",
       "       [ 0.00000000e+00, -1.21955778e+00, -1.00101053e+00,\n",
       "        -3.85889184e-01],\n",
       "       [ 0.00000000e+00,  0.00000000e+00, -4.82265645e-01,\n",
       "         2.57635751e-01],\n",
       "       [ 2.77555756e-17,  0.00000000e+00,  0.00000000e+00,\n",
       "         7.54610627e-01]]), Q=array([[0., 0., 0., 1.],\n",
       "       [0., 1., 0., 0.],\n",
       "       [0., 0., 1., 0.],\n",
       "       [1., 0., 0., 0.]]), x=array([ 0.24787603, -0.45843549,  0.37849348,  0.61836418]))"
      ]
     },
     "execution_count": 196,
     "metadata": {},
     "output_type": "execute_result"
    }
   ],
   "source": [
    "solution: Solution = solve_gauss(equation)\n",
    "solution"
   ]
  },
  {
   "cell_type": "code",
   "execution_count": 197,
   "metadata": {},
   "outputs": [],
   "source": [
    "assert np.allclose(equation.A @ solution.Q - solution.L @ solution.U, 0)"
   ]
  },
  {
   "cell_type": "code",
   "execution_count": 198,
   "metadata": {},
   "outputs": [],
   "source": [
    "assert np.allclose(solution.x, true_solution)"
   ]
  },
  {
   "cell_type": "code",
   "execution_count": 199,
   "metadata": {},
   "outputs": [],
   "source": [
    "def compare_on(equation: Equation) -> float:\n",
    "    my_result: np.ndarray = solve_gauss(equation).x\n",
    "    np_result: np.ndarray = np.linalg.solve(equation.A, equation.b)\n",
    "    \n",
    "    return np.linalg.norm(my_result - np_result)"
   ]
  },
  {
   "cell_type": "code",
   "execution_count": 200,
   "metadata": {},
   "outputs": [],
   "source": [
    "def compare_on_random(size: int, count: int) -> None:\n",
    "    print(f\"{size}x{size}:\")\n",
    "    \n",
    "    for equation in Equation.random_many(size, count=count):\n",
    "        print(\"  \", compare_on(equation), sep=\"\")\n"
   ]
  },
  {
   "cell_type": "code",
   "execution_count": 201,
   "metadata": {},
   "outputs": [
    {
     "name": "stdout",
     "output_type": "stream",
     "text": [
      "3x3:\n",
      "  4.577566798522237e-16\n",
      "  5.259223848564703e-15\n",
      "  8.025154038416283e-16\n",
      "  2.886579864025407e-15\n",
      "  8.582937747229195e-17\n",
      "  0.0\n",
      "  2.5121479338940403e-15\n",
      "  5.095246377785861e-16\n",
      "  4.440892098500626e-16\n",
      "  3.7238012298709097e-16\n"
     ]
    }
   ],
   "source": [
    "compare_on_random(3, 10)"
   ]
  },
  {
   "cell_type": "code",
   "execution_count": 202,
   "metadata": {},
   "outputs": [
    {
     "name": "stdout",
     "output_type": "stream",
     "text": [
      "4x4:\n",
      "  2.791609379366768e-15\n",
      "  6.431871827503859e-16\n",
      "  3.967324346521807e-16\n",
      "  9.075351722425487e-15\n",
      "  3.1325417310403954e-15\n",
      "  8.386594157882081e-16\n",
      "  4.294138290686637e-15\n",
      "  3.656606164041786e-16\n",
      "  2.830524433501838e-16\n",
      "  3.0531133177191805e-16\n"
     ]
    }
   ],
   "source": [
    "compare_on_random(4, 10)"
   ]
  },
  {
   "cell_type": "code",
   "execution_count": 203,
   "metadata": {},
   "outputs": [
    {
     "name": "stdout",
     "output_type": "stream",
     "text": [
      "5x5:\n",
      "  3.3009303617866928e-15\n",
      "  1.852411774394327e-15\n",
      "  1.0706603116298291e-15\n",
      "  2.488113585276671e-15\n",
      "  1.322209902203959e-13\n",
      "  1.4127342602942564e-14\n",
      "  8.440616121040728e-15\n",
      "  1.2964438924174537e-14\n",
      "  1.9190628093955005e-13\n",
      "  3.499844917464604e-16\n"
     ]
    }
   ],
   "source": [
    "compare_on_random(5, 10)"
   ]
  },
  {
   "cell_type": "code",
   "execution_count": null,
   "metadata": {},
   "outputs": [],
   "source": []
  }
 ],
 "metadata": {
  "kernelspec": {
   "display_name": "Python 3",
   "language": "python",
   "name": "python3"
  },
  "language_info": {
   "codemirror_mode": {
    "name": "ipython",
    "version": 3
   },
   "file_extension": ".py",
   "mimetype": "text/x-python",
   "name": "python",
   "nbconvert_exporter": "python",
   "pygments_lexer": "ipython3",
   "version": "3.10.0"
  },
  "orig_nbformat": 4,
  "vscode": {
   "interpreter": {
    "hash": "26de051ba29f2982a8de78e945f0abaf191376122a1563185a90213a26c5da77"
   }
  }
 },
 "nbformat": 4,
 "nbformat_minor": 2
}
