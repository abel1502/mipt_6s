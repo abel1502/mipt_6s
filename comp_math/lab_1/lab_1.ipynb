{
 "cells": [
  {
   "cell_type": "code",
   "execution_count": 8,
   "metadata": {},
   "outputs": [],
   "source": [
    "from __future__ import annotations\n",
    "import typing\n",
    "from dataclasses import dataclass\n",
    "import warnings\n",
    "from contextlib import contextmanager"
   ]
  },
  {
   "cell_type": "code",
   "execution_count": 9,
   "metadata": {},
   "outputs": [],
   "source": [
    "import numpy as np"
   ]
  },
  {
   "cell_type": "code",
   "execution_count": 10,
   "metadata": {},
   "outputs": [],
   "source": [
    "@contextmanager\n",
    "def localize_globals(*exceptions: str, restore_values: bool = True):\n",
    "    exceptions: typing.Set[str] = set(exceptions)\n",
    "\n",
    "    old_globals: typing.Dict[str, typing.Any] = dict(globals())\n",
    "    allowed: typing.Set[str] = set(old_globals.keys())\n",
    "    allowed.update(exceptions)\n",
    "\n",
    "    yield None\n",
    "\n",
    "    new_globals: typing.Dict[str, typing.Any] = globals()\n",
    "\n",
    "    for name in tuple(new_globals.keys()):\n",
    "        if name not in allowed:\n",
    "            del new_globals[name]\n",
    "    \n",
    "    if not restore_values:\n",
    "        return\n",
    "    \n",
    "    new_globals.update(\n",
    "        {k: v for k, v in old_globals.items() if k not in exceptions}\n",
    "    )"
   ]
  },
  {
   "cell_type": "code",
   "execution_count": 11,
   "metadata": {},
   "outputs": [],
   "source": [
    "@dataclass(frozen=True)\n",
    "class Equation:\n",
    "    A: np.ndarray\n",
    "    b: np.ndarray\n",
    "    \n",
    "    @staticmethod\n",
    "    def random(size: int) -> Equation:\n",
    "        A: np.ndarray = np.random.rand(size, size)\n",
    "        b: np.ndarray = np.random.rand(size)\n",
    "        \n",
    "        return Equation(A, b)\n",
    "    \n",
    "    @staticmethod\n",
    "    def random_many(size: int, *, count: int) -> typing.Iterable[Equation]:\n",
    "        return (Equation.random(size) for _ in range(count))"
   ]
  },
  {
   "cell_type": "code",
   "execution_count": 12,
   "metadata": {},
   "outputs": [],
   "source": [
    "@dataclass(frozen=True)\n",
    "class Solution:\n",
    "    L: np.ndarray\n",
    "    U: np.ndarray\n",
    "    Q: np.ndarray\n",
    "    x: np.ndarray"
   ]
  },
  {
   "cell_type": "code",
   "execution_count": 13,
   "metadata": {},
   "outputs": [],
   "source": [
    "def matrix_swap(arr: np.ndarray, i: int, j: int,\n",
    "                axis: int = 0) -> None:\n",
    "    if i == j:\n",
    "        return\n",
    "    \n",
    "    # Doesn't affect the contents\n",
    "    arr = arr.swapaxes(0, axis)\n",
    "    \n",
    "    arr[[i, j]] = arr[[j, i]]"
   ]
  },
  {
   "cell_type": "code",
   "execution_count": 14,
   "metadata": {},
   "outputs": [],
   "source": [
    "def solve_gauss(equation: Equation) -> Solution:\n",
    "    A: np.ndarray = equation.A\n",
    "    b: np.ndarray = equation.b\n",
    "    \n",
    "    assert len(A.shape) == 2\n",
    "    assert len(b.shape) == 1\n",
    "    assert A.shape[0] == A.shape[1] == b.shape[0]\n",
    "    \n",
    "    size: int = A.shape[0]\n",
    "    \n",
    "    L: np.ndarray = np.eye(size)\n",
    "    U: np.ndarray = A.copy()\n",
    "    Q: np.ndarray = np.eye(size)\n",
    "    \n",
    "    for row_idx in range(size):\n",
    "        pivot: int = np.argmax(np.abs(U[row_idx:, row_idx])) + row_idx\n",
    "        \n",
    "        matrix_swap(U, row_idx, pivot, axis=1)\n",
    "        matrix_swap(Q, row_idx, pivot, axis=1)\n",
    "        \n",
    "        normalization_coeff: float = U[row_idx, row_idx]\n",
    "        if np.abs(normalization_coeff) < 1e-10:\n",
    "            warnings.warn(\"Matrix is close to singular\")\n",
    "        \n",
    "        A[row_idx] /= normalization_coeff\n",
    "        L_delta_row: np.ndarray = L[row_idx] / normalization_coeff\n",
    "        \n",
    "        for other_row_idx in range(row_idx + 1, size):\n",
    "            L[other_row_idx] -= L_delta_row * U[other_row_idx, row_idx]\n",
    "            U[other_row_idx] -= U[row_idx] * U[other_row_idx, row_idx]\n",
    "    \n",
    "    return Solution(L, U, Q, ...)"
   ]
  },
  {
   "cell_type": "code",
   "execution_count": 19,
   "metadata": {},
   "outputs": [],
   "source": [
    "equation: Equation = Equation.random(3)"
   ]
  },
  {
   "cell_type": "code",
   "execution_count": 22,
   "metadata": {},
   "outputs": [],
   "source": [
    "true_solution: np.ndarray = np.linalg.solve(equation.A, equation.b)"
   ]
  },
  {
   "cell_type": "code",
   "execution_count": 23,
   "metadata": {},
   "outputs": [
    {
     "data": {
      "text/plain": [
       "array([ 1.11022302e-16, -4.16333634e-17, -1.11022302e-16])"
      ]
     },
     "execution_count": 23,
     "metadata": {},
     "output_type": "execute_result"
    }
   ],
   "source": [
    "equation.A @ true_solution - equation.b"
   ]
  },
  {
   "cell_type": "code",
   "execution_count": null,
   "metadata": {},
   "outputs": [],
   "source": []
  },
  {
   "cell_type": "code",
   "execution_count": 17,
   "metadata": {},
   "outputs": [],
   "source": [
    "def compare_on(equation: Equation) -> float:\n",
    "    my_result: np.ndarray = solve_gauss(equation).x\n",
    "    np_result: np.ndarray = np.linalg.solve(equation.A, equation.b)\n",
    "    \n",
    "    return np.linalg.norm(my_result - np_result)"
   ]
  },
  {
   "cell_type": "code",
   "execution_count": 18,
   "metadata": {},
   "outputs": [
    {
     "ename": "TypeError",
     "evalue": "unsupported operand type(s) for -: 'ellipsis' and 'float'",
     "output_type": "error",
     "traceback": [
      "\u001b[1;31m---------------------------------------------------------------------------\u001b[0m",
      "\u001b[1;31mTypeError\u001b[0m                                 Traceback (most recent call last)",
      "Cell \u001b[1;32mIn [18], line 3\u001b[0m\n\u001b[0;32m      1\u001b[0m \u001b[39mwith\u001b[39;00m localize_globals():\n\u001b[0;32m      2\u001b[0m     \u001b[39mfor\u001b[39;00m equation \u001b[39min\u001b[39;00m Equation\u001b[39m.\u001b[39mrandom_many(\u001b[39m3\u001b[39m, count\u001b[39m=\u001b[39m\u001b[39m10\u001b[39m):\n\u001b[1;32m----> 3\u001b[0m         \u001b[39mprint\u001b[39m(compare_on(equation))\n",
      "Cell \u001b[1;32mIn [17], line 5\u001b[0m, in \u001b[0;36mcompare_on\u001b[1;34m(equation)\u001b[0m\n\u001b[0;32m      2\u001b[0m my_result: np\u001b[39m.\u001b[39mndarray \u001b[39m=\u001b[39m solve_gauss(equation)\u001b[39m.\u001b[39mx\n\u001b[0;32m      3\u001b[0m np_result: np\u001b[39m.\u001b[39mndarray \u001b[39m=\u001b[39m np\u001b[39m.\u001b[39mlinalg\u001b[39m.\u001b[39msolve(equation\u001b[39m.\u001b[39mA, equation\u001b[39m.\u001b[39mb)\n\u001b[1;32m----> 5\u001b[0m \u001b[39mreturn\u001b[39;00m np\u001b[39m.\u001b[39mlinalg\u001b[39m.\u001b[39mnorm(my_result \u001b[39m-\u001b[39;49m np_result)\n",
      "\u001b[1;31mTypeError\u001b[0m: unsupported operand type(s) for -: 'ellipsis' and 'float'"
     ]
    }
   ],
   "source": [
    "with localize_globals():\n",
    "    for equation in Equation.random_many(3, count=10):\n",
    "        print(compare_on(equation))"
   ]
  },
  {
   "cell_type": "code",
   "execution_count": null,
   "metadata": {},
   "outputs": [],
   "source": []
  }
 ],
 "metadata": {
  "kernelspec": {
   "display_name": "Python 3",
   "language": "python",
   "name": "python3"
  },
  "language_info": {
   "codemirror_mode": {
    "name": "ipython",
    "version": 3
   },
   "file_extension": ".py",
   "mimetype": "text/x-python",
   "name": "python",
   "nbconvert_exporter": "python",
   "pygments_lexer": "ipython3",
   "version": "3.10.0"
  },
  "orig_nbformat": 4,
  "vscode": {
   "interpreter": {
    "hash": "26de051ba29f2982a8de78e945f0abaf191376122a1563185a90213a26c5da77"
   }
  }
 },
 "nbformat": 4,
 "nbformat_minor": 2
}
