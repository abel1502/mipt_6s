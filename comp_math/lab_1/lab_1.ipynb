{
 "cells": [
  {
   "cell_type": "code",
   "execution_count": 2,
   "metadata": {},
   "outputs": [],
   "source": [
    "from __future__ import annotations\n",
    "import typing\n",
    "from dataclasses import dataclass\n",
    "import warnings\n",
    "from contextlib import contextmanager"
   ]
  },
  {
   "cell_type": "code",
   "execution_count": 3,
   "metadata": {},
   "outputs": [],
   "source": [
    "import numpy as np"
   ]
  },
  {
   "cell_type": "code",
   "execution_count": 4,
   "metadata": {},
   "outputs": [],
   "source": [
    "@contextmanager\n",
    "def localize_globals(*exceptions: str, restore_values: bool = True):\n",
    "    exceptions: typing.Set[str] = set(exceptions)\n",
    "\n",
    "    old_globals: typing.Dict[str, typing.Any] = dict(globals())\n",
    "    allowed: typing.Set[str] = set(old_globals.keys())\n",
    "    allowed.update(exceptions)\n",
    "\n",
    "    yield None\n",
    "\n",
    "    new_globals: typing.Dict[str, typing.Any] = globals()\n",
    "\n",
    "    for name in tuple(new_globals.keys()):\n",
    "        if name not in allowed:\n",
    "            del new_globals[name]\n",
    "    \n",
    "    if not restore_values:\n",
    "        return\n",
    "    \n",
    "    new_globals.update(\n",
    "        {k: v for k, v in old_globals.items() if k not in exceptions}\n",
    "    )"
   ]
  },
  {
   "cell_type": "code",
   "execution_count": 5,
   "metadata": {},
   "outputs": [],
   "source": [
    "@dataclass(frozen=True)\n",
    "class Equation:\n",
    "    A: np.ndarray\n",
    "    b: np.ndarray\n",
    "    \n",
    "    @staticmethod\n",
    "    def random(size: int) -> Equation:\n",
    "        A: np.ndarray = np.random.rand(size, size)\n",
    "        b: np.ndarray = np.random.rand(size)\n",
    "        \n",
    "        return Equation(A, b)\n",
    "    \n",
    "    @staticmethod\n",
    "    def random_many(size: int, *, count: int) -> typing.Iterable[Equation]:\n",
    "        return (Equation.random(size) for _ in range(count))"
   ]
  },
  {
   "cell_type": "code",
   "execution_count": 6,
   "metadata": {},
   "outputs": [],
   "source": [
    "@dataclass(frozen=True)\n",
    "class Solution:\n",
    "    L: np.ndarray\n",
    "    U: np.ndarray\n",
    "    Q: np.ndarray\n",
    "    x: np.ndarray"
   ]
  },
  {
   "cell_type": "code",
   "execution_count": 7,
   "metadata": {},
   "outputs": [],
   "source": [
    "def matrix_swap(arr: np.ndarray, i: int, j: int,\n",
    "                axis: int = 0) -> None:\n",
    "    if i == j:\n",
    "        return\n",
    "    \n",
    "    # Doesn't affect the contents\n",
    "    arr = arr.swapaxes(0, axis)\n",
    "    \n",
    "    arr[[i, j]] = arr[[j, i]]"
   ]
  },
  {
   "cell_type": "code",
   "execution_count": 167,
   "metadata": {},
   "outputs": [],
   "source": [
    "def solve_gauss(equation: Equation) -> Solution:\n",
    "    A: np.ndarray = equation.A\n",
    "    b: np.ndarray = equation.b\n",
    "    \n",
    "    assert len(A.shape) == 2\n",
    "    assert len(b.shape) == 1\n",
    "    assert A.shape[0] == A.shape[1] == b.shape[0]\n",
    "    \n",
    "    size: int = A.shape[0]\n",
    "    \n",
    "    L: np.ndarray = np.eye(size)\n",
    "    U: np.ndarray = A.copy()\n",
    "    Q: np.ndarray = np.eye(size)\n",
    "    \n",
    "    for row_idx in range(size):\n",
    "        pivot: int = np.argmax(np.abs(U[row_idx:, row_idx])) + row_idx\n",
    "        \n",
    "        matrix_swap(U, row_idx, pivot, axis=1)\n",
    "        matrix_swap(Q, row_idx, pivot, axis=1)\n",
    "        \n",
    "        normalization_coeff: float = U[row_idx, row_idx]\n",
    "        if np.abs(normalization_coeff) < 1e-10:\n",
    "            warnings.warn(\"Matrix is close to singular\")\n",
    "        \n",
    "        # L_cur: np.ndarray = np.eye(size)\n",
    "        \n",
    "        for other_row_idx in range(row_idx + 1, size):\n",
    "            row_coeff: float = U[other_row_idx, row_idx] / normalization_coeff\n",
    "            U[other_row_idx] -= U[row_idx] * row_coeff\n",
    "            L[other_row_idx, row_idx] += row_coeff\n",
    "        # L = L @ L_cur\n",
    "    \n",
    "    # Now A @ Q = L @ U\n",
    "    # L @ U @ Q.T @ x = b\n",
    "    \n",
    "    result_l: np.ndarray = solve_triangular(Equation(L, b), lower=True)\n",
    "    result_u: np.ndarray = solve_triangular(Equation(U, result_l), lower=False)\n",
    "    x: np.ndarray = Q @ result_u\n",
    "    \n",
    "    return Solution(L, U, Q, x)\n",
    "\n",
    "\n",
    "def solve_triangular(equation: Equation, lower: bool = False) -> np.ndarray:\n",
    "    A: np.ndarray = equation.A\n",
    "    b: np.ndarray = equation.b\n",
    "    \n",
    "    assert len(A.shape) == 2\n",
    "    assert len(b.shape) == 1\n",
    "    assert A.shape[0] == A.shape[1] == b.shape[0]\n",
    "    \n",
    "    size: int = A.shape[0]\n",
    "    \n",
    "    x: np.ndarray = np.zeros(size)\n",
    "    \n",
    "    for row_idx in range(size):\n",
    "        if not lower:\n",
    "            row_idx = size - 1 - row_idx\n",
    "        \n",
    "        coeff: float = A[row_idx, row_idx]\n",
    "        if np.abs(coeff) < 1e-10:\n",
    "            warnings.warn(\"Matrix is close to singular\")\n",
    "        \n",
    "        x[row_idx] = (b[row_idx] - A[row_idx] @ x) / coeff\n",
    "        \n",
    "    return x"
   ]
  },
  {
   "cell_type": "code",
   "execution_count": 168,
   "metadata": {},
   "outputs": [],
   "source": [
    "np.random.seed(42)\n",
    "equation: Equation = Equation.random(4)"
   ]
  },
  {
   "cell_type": "code",
   "execution_count": 169,
   "metadata": {},
   "outputs": [],
   "source": [
    "true_solution: np.ndarray = np.linalg.solve(equation.A, equation.b)"
   ]
  },
  {
   "cell_type": "code",
   "execution_count": 170,
   "metadata": {},
   "outputs": [
    {
     "data": {
      "text/plain": [
       "Solution(L=array([[ 1.        ,  0.        ,  0.        ,  0.        ],\n",
       "       [ 1.44686189,  1.        ,  0.        ,  0.        ],\n",
       "       [ 1.62013882,  0.68239209,  1.        ,  0.        ],\n",
       "       [ 0.30635916,  0.06471274, -0.04634386,  1.        ]]), U=array([[ 5.98658484e-01,  9.50714306e-01,  7.31993942e-01,\n",
       "         3.74540119e-01],\n",
       "       [ 0.00000000e+00, -1.21955778e+00, -1.00101053e+00,\n",
       "        -3.85889184e-01],\n",
       "       [ 0.00000000e+00,  0.00000000e+00, -4.82265645e-01,\n",
       "         2.57635751e-01],\n",
       "       [ 2.77555756e-17,  0.00000000e+00,  0.00000000e+00,\n",
       "         7.54610627e-01]]), Q=array([[0., 0., 0., 1.],\n",
       "       [0., 1., 0., 0.],\n",
       "       [0., 0., 1., 0.],\n",
       "       [1., 0., 0., 0.]]), x=array([ 0.24787603, -0.45843549,  0.37849348,  0.61836418]))"
      ]
     },
     "execution_count": 170,
     "metadata": {},
     "output_type": "execute_result"
    }
   ],
   "source": [
    "solution: Solution = solve_gauss(equation)\n",
    "solution"
   ]
  },
  {
   "cell_type": "code",
   "execution_count": 171,
   "metadata": {},
   "outputs": [],
   "source": [
    "assert np.allclose(equation.A @ solution.Q - solution.L @ solution.U, 0)"
   ]
  },
  {
   "cell_type": "code",
   "execution_count": 174,
   "metadata": {},
   "outputs": [],
   "source": [
    "assert np.allclose(solution.x, true_solution)"
   ]
  },
  {
   "cell_type": "code",
   "execution_count": 175,
   "metadata": {},
   "outputs": [],
   "source": [
    "def compare_on(equation: Equation) -> float:\n",
    "    my_result: np.ndarray = solve_gauss(equation).x\n",
    "    np_result: np.ndarray = np.linalg.solve(equation.A, equation.b)\n",
    "    \n",
    "    return np.linalg.norm(my_result - np_result)"
   ]
  },
  {
   "cell_type": "code",
   "execution_count": 177,
   "metadata": {},
   "outputs": [],
   "source": [
    "def compare_on_random(size: int, count: int) -> None:\n",
    "    print(f\"{size}x{size}:\")\n",
    "    \n",
    "    for equation in Equation.random_many(size, count=count):\n",
    "        print(\"  \", compare_on(equation))\n"
   ]
  },
  {
   "cell_type": "code",
   "execution_count": 179,
   "metadata": {},
   "outputs": [
    {
     "name": "stdout",
     "output_type": "stream",
     "text": [
      "3x3:\n",
      "   6.661338147750939e-16\n",
      "   7.049383475882955e-16\n",
      "   8.055048693485857e-15\n",
      "   3.6215442729969596e-16\n",
      "   5.087681048627601e-16\n",
      "   2.3028766130352475e-15\n",
      "   6.280369834735101e-16\n",
      "   1.9860273225978185e-15\n",
      "   2.9893669801409083e-16\n",
      "   1.1102230246251565e-16\n"
     ]
    }
   ],
   "source": [
    "compare_on_random(3, 10)"
   ]
  },
  {
   "cell_type": "code",
   "execution_count": 180,
   "metadata": {},
   "outputs": [
    {
     "name": "stdout",
     "output_type": "stream",
     "text": [
      "4x4:\n",
      "   3.554101186636567e-14\n",
      "   4.308824046522781e-16\n",
      "   9.155133597044475e-16\n",
      "   2.7194799110210365e-16\n",
      "   9.949512507731418e-16\n",
      "   4.002966042486721e-16\n",
      "   4.728641100182568e-16\n",
      "   6.304854800243424e-16\n",
      "   1.3018518929051675e-16\n",
      "   6.060638241914243e-15\n"
     ]
    }
   ],
   "source": [
    "compare_on_random(4, 10)"
   ]
  },
  {
   "cell_type": "code",
   "execution_count": 181,
   "metadata": {},
   "outputs": [
    {
     "name": "stdout",
     "output_type": "stream",
     "text": [
      "5x5:\n",
      "   5.009554625647218e-15\n",
      "   5.69335530206322e-14\n",
      "   1.5700924586837751e-15\n",
      "   1.631687946612622e-15\n",
      "   1.161970824409206e-15\n",
      "   2.737127597257086e-16\n",
      "   8.95137237152086e-14\n",
      "   3.723801229870909e-15\n",
      "   5.675595301472064e-16\n",
      "   6.063894578834077e-16\n"
     ]
    }
   ],
   "source": [
    "compare_on_random(5, 10)"
   ]
  },
  {
   "cell_type": "code",
   "execution_count": null,
   "metadata": {},
   "outputs": [],
   "source": []
  }
 ],
 "metadata": {
  "kernelspec": {
   "display_name": "Python 3",
   "language": "python",
   "name": "python3"
  },
  "language_info": {
   "codemirror_mode": {
    "name": "ipython",
    "version": 3
   },
   "file_extension": ".py",
   "mimetype": "text/x-python",
   "name": "python",
   "nbconvert_exporter": "python",
   "pygments_lexer": "ipython3",
   "version": "3.10.0"
  },
  "orig_nbformat": 4,
  "vscode": {
   "interpreter": {
    "hash": "26de051ba29f2982a8de78e945f0abaf191376122a1563185a90213a26c5da77"
   }
  }
 },
 "nbformat": 4,
 "nbformat_minor": 2
}
