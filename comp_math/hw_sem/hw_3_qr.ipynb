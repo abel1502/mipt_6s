{
 "cells": [
  {
   "cell_type": "code",
   "execution_count": 146,
   "metadata": {},
   "outputs": [],
   "source": [
    "from __future__ import annotations\n",
    "import typing\n",
    "from dataclasses import dataclass, field\n",
    "import warnings\n",
    "from contextlib import contextmanager\n",
    "import itertools\n",
    "import functools"
   ]
  },
  {
   "cell_type": "code",
   "execution_count": 147,
   "metadata": {},
   "outputs": [],
   "source": [
    "import numpy as np\n",
    "import matplotlib.pyplot as plt"
   ]
  },
  {
   "cell_type": "code",
   "execution_count": 148,
   "metadata": {},
   "outputs": [],
   "source": [
    "@contextmanager\n",
    "def localize_globals(*exceptions: str, restore_values: bool = True):\n",
    "    exceptions: typing.Set[str] = set(exceptions)\n",
    "\n",
    "    old_globals: typing.Dict[str, typing.Any] = dict(globals())\n",
    "    allowed: typing.Set[str] = set(old_globals.keys())\n",
    "    allowed.update(exceptions)\n",
    "\n",
    "    yield None\n",
    "\n",
    "    new_globals: typing.Dict[str, typing.Any] = globals()\n",
    "\n",
    "    for name in tuple(new_globals.keys()):\n",
    "        if name not in allowed:\n",
    "            del new_globals[name]\n",
    "    \n",
    "    if not restore_values:\n",
    "        return\n",
    "    \n",
    "    new_globals.update(\n",
    "        {k: v for k, v in old_globals.items() if k not in exceptions}\n",
    "    )"
   ]
  },
  {
   "cell_type": "code",
   "execution_count": 149,
   "metadata": {},
   "outputs": [],
   "source": [
    "# Not actual typevars, but just exist to satisfy the typechecker\n",
    "N = typing.TypeVar('N')\n",
    "M = typing.TypeVar('M')"
   ]
  },
  {
   "cell_type": "code",
   "execution_count": 150,
   "metadata": {},
   "outputs": [],
   "source": [
    "@dataclass\n",
    "class QRDecomposition:\n",
    "    Q: np.ndarray['N,N']\n",
    "    R: np.ndarray['N,N']\n",
    "    \n",
    "    @staticmethod\n",
    "    def decompose(A: np.ndarray['N,N']) -> QRDecomposition:\n",
    "        A = A.T\n",
    "        \n",
    "        es = np.zeros_like(A)\n",
    "        es[0] = A[0] / np.linalg.norm(A[0])\n",
    "        \n",
    "        for i in range(1, len(A)):\n",
    "            u = A[i].copy()\n",
    "            for j in range(i):\n",
    "                u -= np.dot(es[j], A[i]) * es[j]\n",
    "            es[i] = u / np.linalg.norm(u)\n",
    "        \n",
    "        # tmp = np.zeros_like(A)\n",
    "        # for i in range(len(A)):\n",
    "        #     for j in range(i, len(A)):\n",
    "        #         tmp[i, j] = np.dot(es[i], A[j])\n",
    "        \n",
    "        return QRDecomposition(es.T, np.triu(es @ A.T))\n"
   ]
  },
  {
   "cell_type": "code",
   "execution_count": 151,
   "metadata": {},
   "outputs": [
    {
     "name": "stdout",
     "output_type": "stream",
     "text": [
      "QRDecomposition(Q=array([[ 0.12309149,  0.90453403, -0.40824829],\n",
      "       [ 0.49236596,  0.30151134,  0.81649658],\n",
      "       [ 0.86164044, -0.30151134, -0.40824829]]), R=array([[8.1240384 , 9.6011363 , 3.32347026],\n",
      "       [0.        , 0.90453403, 4.52267017],\n",
      "       [0.        , 0.        , 3.67423461]]))\n",
      "(array([[-0.12309149,  0.90453403,  0.40824829],\n",
      "       [-0.49236596,  0.30151134, -0.81649658],\n",
      "       [-0.86164044, -0.30151134,  0.40824829]]), array([[-8.1240384 , -9.6011363 , -3.32347026],\n",
      "       [ 0.        ,  0.90453403,  4.52267017],\n",
      "       [ 0.        ,  0.        , -3.67423461]]))\n"
     ]
    }
   ],
   "source": [
    "with localize_globals():\n",
    "    A = np.array([\n",
    "        [1, 2, 3],\n",
    "        [4, 5, 6],\n",
    "        [7, 8, 0],\n",
    "    ], dtype=float)\n",
    "    \n",
    "    dec = QRDecomposition.decompose(A)\n",
    "    \n",
    "    assert np.allclose(dec.Q @ dec.R, A)\n",
    "    \n",
    "    for i, j in itertools.product(range(A.shape[0]), range(A.shape[1])):\n",
    "        assert np.allclose(dec.Q[i] @ dec.Q[j].T, float(i == j))\n",
    "    \n",
    "    print(dec)\n",
    "    print(np.linalg.qr(A))"
   ]
  },
  {
   "cell_type": "code",
   "execution_count": 152,
   "metadata": {},
   "outputs": [],
   "source": [
    "def get_eigenvalues(A: np.ndarray['N,N'], iterations: int = 500) -> tuple[np.ndarray['N'], np.ndarray['N,N']]:\n",
    "    \"\"\"\n",
    "    Returns eigenvalues and eigenvectors of a matrix A.\n",
    "    \"\"\"\n",
    "    \n",
    "    A = A.copy()\n",
    "    for _ in range(iterations):\n",
    "        dec = QRDecomposition.decompose(A)\n",
    "        A = dec.R @ dec.Q\n",
    "    return np.diag(A)"
   ]
  },
  {
   "cell_type": "code",
   "execution_count": 212,
   "metadata": {},
   "outputs": [],
   "source": [
    "def svd(A: np.ndarray['N,M'], iterations: int = 500) -> tuple[np.ndarray['N,N'], np.ndarray['min(N,M)'], np.ndarray['M,M']]:\n",
    "    \"\"\"\n",
    "    Computes the singular value decomposition of matrix `A` via the QR algorithm.\n",
    "    \n",
    "    Returns (U, S, V.T) such that A = U @ np.diag(S) @ V.T.\n",
    "    \"\"\"\n",
    "    \n",
    "    transposed: bool = False\n",
    "    \n",
    "    if A.shape[0] > A.shape[1]:\n",
    "        A = A.T\n",
    "        transposed = True\n",
    "    \n",
    "    Sigma = A @ A.T\n",
    "    U = np.eye(A.shape[0])\n",
    "    \n",
    "    for _ in range(iterations):\n",
    "        dec = QRDecomposition.decompose(Sigma)\n",
    "        Sigma = dec.R @ dec.Q\n",
    "        U = U @ dec.Q\n",
    "    \n",
    "    Sigma = np.sqrt(np.diag(Sigma))\n",
    "    \n",
    "    tmp = np.zeros_like(A)\n",
    "    tmp[:Sigma.shape[0], :Sigma.shape[0]] = np.diag(Sigma ** -1)\n",
    "    \n",
    "    # A = U @ Sigma @ V\n",
    "    V = tmp.T @ U.T @ A\n",
    "    \n",
    "    if transposed:\n",
    "        V, U = U, V\n",
    "    \n",
    "    return U, Sigma, V\n"
   ]
  },
  {
   "cell_type": "code",
   "execution_count": 214,
   "metadata": {},
   "outputs": [
    {
     "name": "stdout",
     "output_type": "stream",
     "text": [
      "(array([[ 0.32827266, -0.27258864,  0.9043962 ],\n",
      "       [ 0.84272698, -0.34796774, -0.41076719],\n",
      "       [ 0.42667117,  0.89700272,  0.1154895 ]]), array([15.35238785,  7.31734162,  0.87218046]), array([[ 0.54597032,  0.37211848,  0.47618508,  0.58025168],\n",
      "       [ 0.82825122, -0.35982791, -0.32204829, -0.28426868],\n",
      "       [-0.12615989, -0.7519209 , -0.05353502,  0.64485086],\n",
      "       [ 0.        ,  0.        ,  0.        ,  0.        ]]))\n",
      "(array([[-0.32827266, -0.27258864,  0.9043962 ],\n",
      "       [-0.84272698, -0.34796774, -0.41076719],\n",
      "       [-0.42667117,  0.89700272,  0.1154895 ]]), array([15.35238785,  7.31734162,  0.87218046]), array([[-5.45970322e-01, -3.72118480e-01, -4.76185080e-01,\n",
      "        -5.80251681e-01],\n",
      "       [ 8.28251224e-01, -3.59827908e-01, -3.22048295e-01,\n",
      "        -2.84268681e-01],\n",
      "       [-1.26159891e-01, -7.51920905e-01, -5.35350204e-02,\n",
      "         6.44850864e-01],\n",
      "       [ 1.31292109e-16,  4.08248290e-01, -8.16496581e-01,\n",
      "         4.08248290e-01]]))\n"
     ]
    }
   ],
   "source": [
    "with localize_globals():\n",
    "    A = np.array([\n",
    "        [1, 2, 3, 4],\n",
    "        [5, 6, 7, 8],\n",
    "        [9, 0, 1, 2],\n",
    "    ], dtype=float)\n",
    "    \n",
    "    my_result = svd(A)\n",
    "    np_result = np.linalg.svd(A)\n",
    "    \n",
    "    print(my_result)\n",
    "    print(np_result)\n",
    "    \n",
    "    Sigma = np.zeros_like(A)\n",
    "    np.fill_diagonal(Sigma, np_result[1])\n",
    "    \n",
    "    assert np.allclose(my_result[0] @ Sigma @ my_result[2], A)\n"
   ]
  }
 ],
 "metadata": {
  "kernelspec": {
   "display_name": "Python 3",
   "language": "python",
   "name": "python3"
  },
  "language_info": {
   "codemirror_mode": {
    "name": "ipython",
    "version": 3
   },
   "file_extension": ".py",
   "mimetype": "text/x-python",
   "name": "python",
   "nbconvert_exporter": "python",
   "pygments_lexer": "ipython3",
   "version": "3.10.0"
  },
  "orig_nbformat": 4
 },
 "nbformat": 4,
 "nbformat_minor": 2
}
