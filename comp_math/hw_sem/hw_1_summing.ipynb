{
 "cells": [
  {
   "cell_type": "code",
   "execution_count": 63,
   "metadata": {},
   "outputs": [],
   "source": [
    "from __future__ import annotations\n",
    "import typing\n",
    "from dataclasses import dataclass\n",
    "from contextlib import contextmanager\n",
    "import time"
   ]
  },
  {
   "cell_type": "code",
   "execution_count": 64,
   "metadata": {},
   "outputs": [],
   "source": [
    "import numpy as np"
   ]
  },
  {
   "cell_type": "code",
   "execution_count": 65,
   "metadata": {},
   "outputs": [],
   "source": [
    "@contextmanager\n",
    "def localize_globals(*exceptions: str, restore_values: bool = True):\n",
    "    exceptions: typing.Set[str] = set(exceptions)\n",
    "\n",
    "    old_globals: typing.Dict[str, typing.Any] = dict(globals())\n",
    "    allowed: typing.Set[str] = set(old_globals.keys())\n",
    "    allowed.update(exceptions)\n",
    "\n",
    "    yield None\n",
    "\n",
    "    new_globals: typing.Dict[str, typing.Any] = globals()\n",
    "\n",
    "    for name in tuple(new_globals.keys()):\n",
    "        if name not in allowed:\n",
    "            del new_globals[name]\n",
    "    \n",
    "    if not restore_values:\n",
    "        return\n",
    "    \n",
    "    new_globals.update(\n",
    "        {k: v for k, v in old_globals.items() if k not in exceptions}\n",
    "    )"
   ]
  },
  {
   "cell_type": "code",
   "execution_count": 66,
   "metadata": {},
   "outputs": [],
   "source": [
    "class measure_time:\n",
    "    _start: float\n",
    "    _end: float\n",
    "    \n",
    "    def __init__(self):\n",
    "        self._start = 0\n",
    "        self._end = 0\n",
    "    \n",
    "    def __enter__(self) -> measure_time:\n",
    "        self._start = time.perf_counter()\n",
    "        return self\n",
    "    \n",
    "    def __exit__(self, exc_type, exc_value, traceback) -> None:\n",
    "        self._end = time.perf_counter()\n",
    "    \n",
    "    @property\n",
    "    def elapsed(self) -> float:\n",
    "        return self._end - self._start\n",
    "    \n",
    "    def __repr__(self) -> str:\n",
    "        return f\"{self.__class__.__name__}({self.elapsed:.2e})\""
   ]
  },
  {
   "cell_type": "code",
   "execution_count": 67,
   "metadata": {},
   "outputs": [],
   "source": [
    "np.random.seed(42)\n",
    "\n",
    "with localize_globals(\"dataset_64\"):\n",
    "    n: typing.Final[int] = 10 ** 6\n",
    "    random_scaled = lambda scale, loc=0, size=n: np.random.normal(loc=loc, size=size)\n",
    "    \n",
    "    dataset_64: np.ndarray = np.hstack([\n",
    "        random_scaled(1e-9),\n",
    "        random_scaled(1e0),\n",
    "        random_scaled(1e3),\n",
    "    ])"
   ]
  },
  {
   "cell_type": "code",
   "execution_count": 68,
   "metadata": {},
   "outputs": [
    {
     "data": {
      "text/plain": [
       "array([-0.85033265, -0.66929662, -0.28918369,  0.8509891 , -0.71009343,\n",
       "       -0.71079159, -0.46595553, -1.74863657, -0.07533348,  0.08785799])"
      ]
     },
     "execution_count": 68,
     "metadata": {},
     "output_type": "execute_result"
    }
   ],
   "source": [
    "np.random.choice(dataset_64, size=10)"
   ]
  },
  {
   "cell_type": "code",
   "execution_count": 69,
   "metadata": {},
   "outputs": [],
   "source": [
    "dataset: np.ndarray = dataset_64.astype(np.float16)"
   ]
  },
  {
   "cell_type": "code",
   "execution_count": 70,
   "metadata": {},
   "outputs": [
    {
     "data": {
      "text/plain": [
       "array([ 0.7656 ,  0.586  , -0.696  ,  0.0932 ,  0.0483 , -0.519  ,\n",
       "       -0.3389 , -1.314  ,  1.54   ,  0.01839], dtype=float16)"
      ]
     },
     "execution_count": 70,
     "metadata": {},
     "output_type": "execute_result"
    }
   ],
   "source": [
    "np.random.choice(dataset, size=10)"
   ]
  },
  {
   "cell_type": "code",
   "execution_count": 71,
   "metadata": {},
   "outputs": [
    {
     "data": {
      "text/plain": [
       "-1655.027614386756"
      ]
     },
     "execution_count": 71,
     "metadata": {},
     "output_type": "execute_result"
    }
   ],
   "source": [
    "true_sum: float = np.sum(dataset_64)\n",
    "true_sum"
   ]
  },
  {
   "cell_type": "code",
   "execution_count": 72,
   "metadata": {},
   "outputs": [],
   "source": [
    "def check_summing_method(do_sum: typing.Callable[[np.ndarray], float], name: str = \"?\") -> None:\n",
    "    timer = measure_time()\n",
    "    \n",
    "    with timer:\n",
    "        method_sum: float = np.float64(do_sum(dataset))\n",
    "    \n",
    "    error: float = np.abs(true_sum - method_sum)\n",
    "    \n",
    "    print(f\"{name}: {error:.2e} (true sum: {true_sum}, method sum: {method_sum}) (done in {timer.elapsed:f}s)\")\n"
   ]
  },
  {
   "cell_type": "code",
   "execution_count": 73,
   "metadata": {},
   "outputs": [
    {
     "name": "stdout",
     "output_type": "stream",
     "text": [
      "linear: 3.39e+02 (true sum: -1655.027614386756, method sum: -1316.0) (done in 0.382734s)\n"
     ]
    }
   ],
   "source": [
    "def do_sum_linear(arr: np.ndarray) -> float:\n",
    "    result: float = np.float16(0)\n",
    "    \n",
    "    for item in arr:\n",
    "        result += item\n",
    "    \n",
    "    return result\n",
    "\n",
    "check_summing_method(do_sum_linear, \"linear\")"
   ]
  },
  {
   "cell_type": "code",
   "execution_count": 74,
   "metadata": {},
   "outputs": [
    {
     "name": "stdout",
     "output_type": "stream",
     "text": [
      "tree: 2.97e+00 (true sum: -1655.027614386756, method sum: -1658.0) (done in 2.704604s)\n"
     ]
    }
   ],
   "source": [
    "def do_sum_tree(arr: np.ndarray) -> float:\n",
    "    if len(arr) == 0:\n",
    "        return np.float16(0)\n",
    "    \n",
    "    if len(arr) == 1:\n",
    "        return arr[0]\n",
    "    \n",
    "    return do_sum_tree(arr[::2]) + do_sum_tree(arr[1::2])\n",
    "\n",
    "check_summing_method(do_sum_tree, \"tree\")"
   ]
  },
  {
   "cell_type": "code",
   "execution_count": 75,
   "metadata": {},
   "outputs": [
    {
     "name": "stdout",
     "output_type": "stream",
     "text": [
      "kahan: 1.03e+00 (true sum: -1655.027614386756, method sum: -1654.0) (done in 0.842458s)\n"
     ]
    }
   ],
   "source": [
    "def do_kahan_sum(arr: np.ndarray) -> float:\n",
    "    result: float = np.float16(0)\n",
    "    compensation: float = np.float16(0)\n",
    "    \n",
    "    for item in arr:\n",
    "        y: float = item - compensation\n",
    "        t: float = result + y\n",
    "        compensation = (t - result) - y\n",
    "        result = t\n",
    "    \n",
    "    return result\n",
    "\n",
    "check_summing_method(do_kahan_sum, \"kahan\")"
   ]
  }
 ],
 "metadata": {
  "kernelspec": {
   "display_name": "Python 3",
   "language": "python",
   "name": "python3"
  },
  "language_info": {
   "codemirror_mode": {
    "name": "ipython",
    "version": 3
   },
   "file_extension": ".py",
   "mimetype": "text/x-python",
   "name": "python",
   "nbconvert_exporter": "python",
   "pygments_lexer": "ipython3",
   "version": "3.10.0"
  },
  "orig_nbformat": 4
 },
 "nbformat": 4,
 "nbformat_minor": 2
}
