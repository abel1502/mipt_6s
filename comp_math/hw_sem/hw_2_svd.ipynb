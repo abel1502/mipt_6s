{
 "cells": [
  {
   "cell_type": "code",
   "execution_count": 2,
   "metadata": {},
   "outputs": [],
   "source": [
    "from __future__ import annotations\n",
    "import typing\n",
    "from dataclasses import dataclass\n",
    "from contextlib import contextmanager\n",
    "import time"
   ]
  },
  {
   "cell_type": "code",
   "execution_count": 3,
   "metadata": {},
   "outputs": [],
   "source": [
    "import numpy as np"
   ]
  },
  {
   "cell_type": "code",
   "execution_count": 4,
   "metadata": {},
   "outputs": [],
   "source": [
    "@contextmanager\n",
    "def localize_globals(*exceptions: str, restore_values: bool = True):\n",
    "    exceptions: typing.Set[str] = set(exceptions)\n",
    "\n",
    "    old_globals: typing.Dict[str, typing.Any] = dict(globals())\n",
    "    allowed: typing.Set[str] = set(old_globals.keys())\n",
    "    allowed.update(exceptions)\n",
    "\n",
    "    yield None\n",
    "\n",
    "    new_globals: typing.Dict[str, typing.Any] = globals()\n",
    "\n",
    "    for name in tuple(new_globals.keys()):\n",
    "        if name not in allowed:\n",
    "            del new_globals[name]\n",
    "    \n",
    "    if not restore_values:\n",
    "        return\n",
    "    \n",
    "    new_globals.update(\n",
    "        {k: v for k, v in old_globals.items() if k not in exceptions}\n",
    "    )"
   ]
  },
  {
   "cell_type": "code",
   "execution_count": 5,
   "metadata": {},
   "outputs": [],
   "source": [
    "class measure_time:\n",
    "    _start: float\n",
    "    _end: float\n",
    "    \n",
    "    def __init__(self):\n",
    "        self._start = 0\n",
    "        self._end = 0\n",
    "    \n",
    "    def __enter__(self) -> measure_time:\n",
    "        self._start = time.perf_counter()\n",
    "        return self\n",
    "    \n",
    "    def __exit__(self, exc_type, exc_value, traceback) -> None:\n",
    "        self._end = time.perf_counter()\n",
    "    \n",
    "    @property\n",
    "    def elapsed(self) -> float:\n",
    "        return self._end - self._start\n",
    "    \n",
    "    def __repr__(self) -> str:\n",
    "        return f\"{self.__class__.__name__}({self.elapsed:.2e})\""
   ]
  },
  {
   "attachments": {},
   "cell_type": "markdown",
   "metadata": {},
   "source": [
    "### Power method"
   ]
  },
  {
   "cell_type": "code",
   "execution_count": 221,
   "metadata": {},
   "outputs": [],
   "source": [
    "class PowerMethodSVD:\n",
    "    _half_mat: np.ndarray\n",
    "    _mat: np.ndarray\n",
    "    _iterations: int\n",
    "    _sum_eigenvals: float\n",
    "    \n",
    "    def __init__(self, mat: np.ndarray, iterations: int = 1000):\n",
    "        assert mat.ndim == 2\n",
    "        \n",
    "        self._half_mat = mat\n",
    "        self._mat = mat @ mat.T\n",
    "        self._iterations = iterations\n",
    "    \n",
    "    def apply(self) -> tuple[np.ndarray, np.ndarray, np.ndarray]:\n",
    "        \"\"\"\n",
    "        Returns: U, S (1-dimensional), V.T\n",
    "        \"\"\"\n",
    "        \n",
    "        U: np.ndarray = np.empty((self._mat.shape[0], 0))\n",
    "        S: np.ndarray = np.empty((0,))\n",
    "        \n",
    "        for _ in range(self._mat.shape[0]):\n",
    "            vec: np.ndarray = self._compute_eigenvec()\n",
    "            vec_norm: float = np.linalg.norm(vec)\n",
    "            \n",
    "            if vec_norm < 1e-10:\n",
    "                break\n",
    "            \n",
    "            U = np.append(U, vec, axis=1)\n",
    "            \n",
    "            val: float = np.linalg.norm(self._mat @ vec) / vec_norm\n",
    "            # val: float = vec.T @ self._mat.T @ vec / vec_norm ** 2\n",
    "            val = np.sqrt(val)\n",
    "            \n",
    "            S = np.append(S, val)\n",
    "            \n",
    "            self._mat -= val**2 * vec @ vec.T / vec_norm ** 2\n",
    "        \n",
    "        V: np.ndarray = np.linalg.inv(np.diag(S)) @ U.T @ self._half_mat\n",
    "        \n",
    "        return U, S, V\n",
    "    \n",
    "    def _compute_eigenvec(self) -> np.ndarray:\n",
    "        mat: np.ndarray = self._mat\n",
    "        \n",
    "        approx: np.ndarray = np.random.rand(mat.shape[0], 1)\n",
    "        approx /= np.linalg.norm(approx)\n",
    "        \n",
    "        for _ in range(self._iterations):\n",
    "            approx = mat @ approx\n",
    "            \n",
    "            norm: float = np.linalg.norm(approx)\n",
    "            if np.abs(norm) < 1e-10:\n",
    "                return np.zeros_like(approx)\n",
    "            \n",
    "            approx /= norm\n",
    "        \n",
    "        return approx\n"
   ]
  },
  {
   "cell_type": "code",
   "execution_count": 224,
   "metadata": {},
   "outputs": [],
   "source": [
    "with localize_globals():\n",
    "    np.random.seed(42)\n",
    "    mat: np.ndarray = np.random.rand(10, 10)\n",
    "    # mat: np.ndarray = np.random.rand(3, 3)\n",
    "    # mat = np.diag([1., 4., 9.])\n",
    "    \n",
    "    res_my = PowerMethodSVD(mat).apply()\n",
    "    res_np = np.linalg.svd(mat)\n",
    "    \n",
    "    if mat.shape[0] <= 3:\n",
    "        print(res_my)\n",
    "        print(res_np)\n",
    "    \n",
    "    assert np.allclose(res_np[0] @ np.diag(res_np[1]) @ res_np[2], mat)\n",
    "    assert np.allclose(res_my[0] @ np.diag(res_my[1]) @ res_my[2], mat)"
   ]
  },
  {
   "attachments": {},
   "cell_type": "markdown",
   "metadata": {},
   "source": [
    "### QR method"
   ]
  },
  {
   "cell_type": "code",
   "execution_count": null,
   "metadata": {},
   "outputs": [],
   "source": []
  }
 ],
 "metadata": {
  "kernelspec": {
   "display_name": "Python 3",
   "language": "python",
   "name": "python3"
  },
  "language_info": {
   "codemirror_mode": {
    "name": "ipython",
    "version": 3
   },
   "file_extension": ".py",
   "mimetype": "text/x-python",
   "name": "python",
   "nbconvert_exporter": "python",
   "pygments_lexer": "ipython3",
   "version": "3.10.0"
  },
  "orig_nbformat": 4
 },
 "nbformat": 4,
 "nbformat_minor": 2
}
