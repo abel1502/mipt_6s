{
 "cells": [
  {
   "cell_type": "code",
   "execution_count": 199,
   "metadata": {},
   "outputs": [],
   "source": [
    "from __future__ import annotations\n",
    "import typing\n",
    "from dataclasses import dataclass, field\n",
    "import warnings\n",
    "from contextlib import contextmanager\n",
    "import itertools"
   ]
  },
  {
   "cell_type": "code",
   "execution_count": 200,
   "metadata": {},
   "outputs": [],
   "source": [
    "import numpy as np\n",
    "import matplotlib.pyplot as plt"
   ]
  },
  {
   "cell_type": "code",
   "execution_count": 201,
   "metadata": {},
   "outputs": [],
   "source": [
    "@contextmanager\n",
    "def localize_globals(*exceptions: str, restore_values: bool = True):\n",
    "    exceptions: typing.Set[str] = set(exceptions)\n",
    "\n",
    "    old_globals: typing.Dict[str, typing.Any] = dict(globals())\n",
    "    allowed: typing.Set[str] = set(old_globals.keys())\n",
    "    allowed.update(exceptions)\n",
    "\n",
    "    yield None\n",
    "\n",
    "    new_globals: typing.Dict[str, typing.Any] = globals()\n",
    "\n",
    "    for name in tuple(new_globals.keys()):\n",
    "        if name not in allowed:\n",
    "            del new_globals[name]\n",
    "    \n",
    "    if not restore_values:\n",
    "        return\n",
    "    \n",
    "    new_globals.update(\n",
    "        {k: v for k, v in old_globals.items() if k not in exceptions}\n",
    "    )"
   ]
  },
  {
   "cell_type": "code",
   "execution_count": 202,
   "metadata": {},
   "outputs": [],
   "source": [
    "# To please the linter a bit.\n",
    "# Not actually meant to represent types, but rather array shapes.\n",
    "N = typing.TypeVar(\"N\")\n",
    "M = typing.TypeVar(\"M\")"
   ]
  },
  {
   "cell_type": "code",
   "execution_count": 203,
   "metadata": {},
   "outputs": [],
   "source": [
    "@dataclass\n",
    "class PointSet:\n",
    "    xs: np.ndarray['N'] = field(default_factory=lambda: np.array([]))\n",
    "    fs: np.ndarray['N'] = field(default_factory=lambda: np.array([]))\n",
    "    \n",
    "    def add_point(self, x: float, f: float):\n",
    "        self.xs = np.append(self.xs, x)\n",
    "        self.fs = np.append(self.fs, f)\n",
    "    \n",
    "    def clear(self):\n",
    "        self.xs = np.array([])\n",
    "        self.fs = np.array([])\n",
    "    \n",
    "    def __len__(self):\n",
    "        return len(self.xs)\n",
    "    \n",
    "    def __iter__(self):\n",
    "        return zip(self.xs, self.fs)\n",
    "    \n",
    "    @property\n",
    "    def steps(self) -> np.ndarray['N - 1']:\n",
    "        return np.diff(self.xs - 1)\n"
   ]
  },
  {
   "cell_type": "code",
   "execution_count": 212,
   "metadata": {},
   "outputs": [],
   "source": [
    "@dataclass\n",
    "class CubicSpline:\n",
    "    xs: np.ndarray['N']\n",
    "    polys: np.ndarray['N-1,4']  # a x^3 + b x^2 + c x + d\n",
    "    \n",
    "    @property\n",
    "    def range(self) -> typing.Tuple[float, float]:\n",
    "        return self.xs[0], self.xs[-1]\n",
    "    \n",
    "    def __contains__(self, x: float) -> bool:\n",
    "        return self.range[0] <= x <= self.range[1]\n",
    "    \n",
    "    def __call__(self, x: float) -> float:\n",
    "        if isinstance(x, np.ndarray):\n",
    "            return np.array([self(xi) for xi in x])\n",
    "        \n",
    "        if x not in self:\n",
    "            raise ValueError(\"x is out of bounds\")\n",
    "        \n",
    "        i = np.searchsorted(self.xs, x) - 1\n",
    "        if i == -1:\n",
    "            i = 0\n",
    "        return np.polyval(self.polys[i], x - self.xs[i])\n"
   ]
  },
  {
   "cell_type": "code",
   "execution_count": 205,
   "metadata": {},
   "outputs": [],
   "source": [
    "def solve_sweep(\n",
    "    a: np.ndarray['N-1'],\n",
    "    b: np.ndarray['N'],\n",
    "    c: np.ndarray['N-1'],\n",
    "    f: np.ndarray['N'],\n",
    ") -> np.ndarray['N']:\n",
    "    \"\"\"\n",
    "    Note: b should not be inverted in the invocation.\n",
    "    \"\"\"\n",
    "    \n",
    "    a: np.ndarray['N'] = np.insert(a, 0, 0)\n",
    "    c: np.ndarray['N'] = np.append(c, 0)\n",
    "    b = -b\n",
    "    \n",
    "    # p[0] and q[0] are ignored\n",
    "    p: np.ndarray['N-1'] = np.zeros_like(a, dtype=float)\n",
    "    q: np.ndarray['N-1'] = np.zeros_like(a, dtype=float)\n",
    "    \n",
    "    p[1] = c[0] / b[0]\n",
    "    q[1] = -f[0] / b[0]\n",
    "    \n",
    "    for i in range(1, len(a) - 1):\n",
    "        p[i + 1] = c[i] / (b[i] - a[i] * p[i])\n",
    "        q[i + 1] = (a[i] * q[i] - f[i]) / (b[i] - a[i] * p[i])\n",
    "    \n",
    "    x: np.ndarray['N'] = np.zeros_like(a)\n",
    "    x[-1] = (a[-1] * q[-1] - f[-1]) / (b[-1] - a[-1] * p[-1])\n",
    "    \n",
    "    for i in range(len(a) - 1, 0, -1):\n",
    "        x[i - 1] = p[i] * x[i] + q[i]\n",
    "    \n",
    "    return x\n"
   ]
  },
  {
   "cell_type": "code",
   "execution_count": 206,
   "metadata": {},
   "outputs": [],
   "source": [
    "def create_spline(points: PointSet) -> CubicSpline:\n",
    "    assert len(points) >= 2\n",
    "    \n",
    "    polys: np.ndarray['N-1,4'] = np.zeros((len(points) - 1, 4))\n",
    "    h: np.ndarray['N-1'] = points.steps\n",
    "    \n",
    "    c: np.ndarray['N-2'] = solve_sweep(\n",
    "        h[1:-1],\n",
    "        2 * (h[:-1] + h[1:]),\n",
    "        h[1:-1],\n",
    "        3 * ((points.fs[2:] - points.fs[1:-1]) / h[1:] - (points.fs[1:-1] - points.fs[:-2]) / h[:-1]),\n",
    "    )\n",
    "    \n",
    "    # Note: c_0 = c_n = 0\n",
    "    c = np.hstack((0, c, 0))\n",
    "    \n",
    "    # populate d\n",
    "    d = np.zeros_like(c)\n",
    "    for i in range(len(polys)):\n",
    "        d[i] = (c[i + 1] - c[i]) / (3 * h[i])\n",
    "    \n",
    "    # populate b\n",
    "    b = np.zeros_like(c)\n",
    "    for i in range(len(polys)):\n",
    "        b[i] = (points.fs[i + 1] - points.fs[i]) / h[i] - h[i] * (c[i + 1] + 2 * c[i]) / 3\n",
    "    \n",
    "    polys[:, 3] = points.fs[:-1]\n",
    "    polys[:, 2] = b[:-1]\n",
    "    polys[:, 1] = c[:-1]\n",
    "    polys[:, 0] = d[:-1]\n",
    "    \n",
    "    return CubicSpline(points.xs, polys)\n",
    "    "
   ]
  },
  {
   "cell_type": "code",
   "execution_count": 207,
   "metadata": {},
   "outputs": [],
   "source": [
    "def spline_over_grid(func: typing.Callable[[float], float], grid: np.ndarray['N']) -> CubicSpline:\n",
    "    points = PointSet()\n",
    "    \n",
    "    for x in grid:\n",
    "        points.add_point(x, func(x))\n",
    "    \n",
    "    return create_spline(points)\n"
   ]
  },
  {
   "cell_type": "code",
   "execution_count": 208,
   "metadata": {},
   "outputs": [],
   "source": [
    "def show_grid(\n",
    "    func: typing.Callable[[float], float],\n",
    "    grid: np.ndarray['N'],\n",
    "    name: str = \"Spline\",\n",
    "    ax: typing.Optional[plt.Axes] = None,\n",
    ") -> CubicSpline:\n",
    "    spline = spline_over_grid(func, grid)\n",
    "    \n",
    "    if ax is None:\n",
    "        fig, ax = plt.subplots()\n",
    "    else:\n",
    "        fig = ax.get_figure()\n",
    "    fig: plt.Figure\n",
    "    ax: plt.Axes\n",
    "    \n",
    "    ax.set_title(name)\n",
    "    ax.set_xlabel(\"x\")\n",
    "    ax.set_ylabel(\"y\")\n",
    "    \n",
    "    xs = np.linspace(grid[0], grid[-1], 1000)\n",
    "    # xs = np.linspace(grid[0] + 1e-6, grid[-1] - 1e-6, 1000) \n",
    "    \n",
    "    ax.plot(xs, func(xs), label=\"func\", color=\"C0\")\n",
    "    ax.plot(xs, spline(xs), label=\"spline\", color=\"C1\")\n",
    "    ax.plot(grid, func(grid), \"o\", label=\"grid\", color=\"C2\")\n",
    "    \n",
    "    ax.legend()\n",
    "    \n",
    "    return spline\n",
    "    "
   ]
  },
  {
   "cell_type": "code",
   "execution_count": 213,
   "metadata": {},
   "outputs": [
    {
     "data": {
      "image/png": "[encoded data removed]",
      "text/plain": [
       "<Figure size 1200x800 with 1 Axes>"
      ]
     },
     "metadata": {},
     "output_type": "display_data"
    }
   ],
   "source": [
    "with localize_globals():\n",
    "    fig, ax = plt.subplots(figsize=(12, 8))\n",
    "    \n",
    "    ax.set_ylim(-1.5, 1.5)\n",
    "    \n",
    "    show_grid(np.sin, np.linspace(0, 2 * np.pi, 10), name=\"sin\", ax=ax)"
   ]
  }
 ],
 "metadata": {
  "kernelspec": {
   "display_name": "Python 3",
   "language": "python",
   "name": "python3"
  },
  "language_info": {
   "codemirror_mode": {
    "name": "ipython",
    "version": 3
   },
   "file_extension": ".py",
   "mimetype": "text/x-python",
   "name": "python",
   "nbconvert_exporter": "python",
   "pygments_lexer": "ipython3",
   "version": "3.10.0"
  },
  "orig_nbformat": 4
 },
 "nbformat": 4,
 "nbformat_minor": 2
}
