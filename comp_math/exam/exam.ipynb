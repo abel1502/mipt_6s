{
 "cells": [
  {
   "cell_type": "code",
   "execution_count": 1,
   "metadata": {},
   "outputs": [],
   "source": [
    "from __future__ import annotations\n",
    "import typing\n",
    "from dataclasses import dataclass, field\n",
    "import warnings\n",
    "from contextlib import contextmanager\n",
    "import itertools"
   ]
  },
  {
   "cell_type": "code",
   "execution_count": 2,
   "metadata": {},
   "outputs": [],
   "source": [
    "import numpy as np\n",
    "import matplotlib.pyplot as plt"
   ]
  },
  {
   "cell_type": "code",
   "execution_count": 3,
   "metadata": {},
   "outputs": [],
   "source": [
    "N = 4\n",
    "x = np.array([-1, 1, 2, 4, 5])\n",
    "f = np.array([46, 24, 4, -54, -20])"
   ]
  },
  {
   "cell_type": "code",
   "execution_count": 14,
   "metadata": {},
   "outputs": [
    {
     "name": "stdout",
     "output_type": "stream",
     "text": [
      "[  1. -12.  49. -78.  40.] 180.0\n",
      "[  1. -10.  27.  -2. -40.] -24.0\n",
      "[  1.  -9.  19.   9. -20.] 18.0\n",
      "[  1.  -7.   9.   7. -10.] -30.0\n"
     ]
    },
    {
     "data": {
      "text/plain": [
       "array([ 1.27777778, -7.66666667,  5.94444444, -3.33333333, 27.77777778])"
      ]
     },
     "execution_count": 14,
     "metadata": {},
     "output_type": "execute_result"
    }
   ],
   "source": [
    "result: np.ndarray['N'] = np.zeros(N + 1, dtype=\"float64\")\n",
    "\n",
    "for i in range(N):\n",
    "    L_i: np.ndarray['N'] = np.poly(x[np.arange(N + 1) != i])\n",
    "    print(L_i, np.polyval(L_i, x[i]))\n",
    "    L_i /= np.polyval(L_i, x[i])\n",
    "\n",
    "    result += f[i] * L_i\n",
    "\n",
    "result"
   ]
  },
  {
   "cell_type": "code",
   "execution_count": 17,
   "metadata": {},
   "outputs": [
    {
     "data": {
      "text/plain": [
       "-32.22222222222224"
      ]
     },
     "execution_count": 17,
     "metadata": {},
     "output_type": "execute_result"
    }
   ],
   "source": [
    "np.polyval(result, 3)"
   ]
  }
 ],
 "metadata": {
  "kernelspec": {
   "display_name": "Python 3",
   "language": "python",
   "name": "python3"
  },
  "language_info": {
   "codemirror_mode": {
    "name": "ipython",
    "version": 3
   },
   "file_extension": ".py",
   "mimetype": "text/x-python",
   "name": "python",
   "nbconvert_exporter": "python",
   "pygments_lexer": "ipython3",
   "version": "3.10.0"
  },
  "orig_nbformat": 4
 },
 "nbformat": 4,
 "nbformat_minor": 2
}
