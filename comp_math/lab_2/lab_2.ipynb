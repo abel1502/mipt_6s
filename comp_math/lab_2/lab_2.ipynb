{
 "cells": [
  {
   "cell_type": "code",
   "execution_count": 65,
   "metadata": {},
   "outputs": [],
   "source": [
    "from __future__ import annotations\n",
    "import typing\n",
    "from dataclasses import dataclass\n",
    "import warnings\n",
    "from contextlib import contextmanager\n",
    "import itertools"
   ]
  },
  {
   "cell_type": "code",
   "execution_count": 66,
   "metadata": {},
   "outputs": [],
   "source": [
    "import numpy as np\n",
    "import matplotlib.pyplot as plt"
   ]
  },
  {
   "cell_type": "code",
   "execution_count": 67,
   "metadata": {},
   "outputs": [],
   "source": [
    "@contextmanager\n",
    "def localize_globals(*exceptions: str, restore_values: bool = True):\n",
    "    exceptions: typing.Set[str] = set(exceptions)\n",
    "\n",
    "    old_globals: typing.Dict[str, typing.Any] = dict(globals())\n",
    "    allowed: typing.Set[str] = set(old_globals.keys())\n",
    "    allowed.update(exceptions)\n",
    "\n",
    "    yield None\n",
    "\n",
    "    new_globals: typing.Dict[str, typing.Any] = globals()\n",
    "\n",
    "    for name in tuple(new_globals.keys()):\n",
    "        if name not in allowed:\n",
    "            del new_globals[name]\n",
    "    \n",
    "    if not restore_values:\n",
    "        return\n",
    "    \n",
    "    new_globals.update(\n",
    "        {k: v for k, v in old_globals.items() if k not in exceptions}\n",
    "    )"
   ]
  },
  {
   "cell_type": "code",
   "execution_count": 68,
   "metadata": {},
   "outputs": [],
   "source": [
    "@dataclass(frozen=True)\n",
    "class Equation:\n",
    "    A: np.ndarray\n",
    "    b: np.ndarray\n",
    "    \n",
    "    @staticmethod\n",
    "    def random(size: int) -> Equation:\n",
    "        # TODO: Better matrix?\n",
    "        \n",
    "        A: np.ndarray = np.eye(size) + 0.1 * np.random.rand(size, size)\n",
    "        A = A @ A.T\n",
    "        b: np.ndarray = np.random.rand(size)\n",
    "        \n",
    "        return Equation(A, b)"
   ]
  },
  {
   "cell_type": "code",
   "execution_count": 69,
   "metadata": {},
   "outputs": [],
   "source": [
    "def solve_seidel(equation: Equation,\n",
    "                 max_iter: int = 10000,\n",
    "                 tol: float = 1e-8) -> tuple[np.ndarray, list[float]]:\n",
    "    residuals: list[float] = []\n",
    "    \n",
    "    A: np.ndarray = equation.A\n",
    "    b: np.ndarray = equation.b\n",
    "    \n",
    "    x: np.ndarray = np.zeros_like(b)\n",
    "    \n",
    "    for _ in range(max_iter):\n",
    "        for i in range(len(x)):\n",
    "            x[i] = b[i]\n",
    "            \n",
    "            for j in range(len(x)):\n",
    "                if j == i:\n",
    "                    continue\n",
    "                \n",
    "                x[i] -= A[i, j] * x[j]\n",
    "            \n",
    "            x[i] /= A[i, i]\n",
    "        \n",
    "        residual: float = np.linalg.norm(A @ x - b)\n",
    "        if residual < tol:\n",
    "            break\n",
    "        \n",
    "        residuals.append(residual)\n",
    "    \n",
    "    return x, residuals\n"
   ]
  },
  {
   "cell_type": "code",
   "execution_count": 70,
   "metadata": {},
   "outputs": [],
   "source": [
    "np.random.seed(42)\n",
    "equation: Equation = Equation.random(100)"
   ]
  },
  {
   "cell_type": "code",
   "execution_count": 71,
   "metadata": {},
   "outputs": [],
   "source": [
    "true_solution: np.ndarray = np.linalg.solve(equation.A, equation.b)"
   ]
  },
  {
   "cell_type": "code",
   "execution_count": 72,
   "metadata": {},
   "outputs": [],
   "source": [
    "solution: np.ndarray\n",
    "residuals: list[float]\n",
    "solution, residuals = solve_seidel(equation)"
   ]
  },
  {
   "cell_type": "code",
   "execution_count": 73,
   "metadata": {},
   "outputs": [
    {
     "name": "stdout",
     "output_type": "stream",
     "text": [
      "Done in 752 iterations with error of 9.322311588928374e-09\n"
     ]
    }
   ],
   "source": [
    "print(f\"Done in {len(residuals)} iterations with error of {np.linalg.norm(solution - true_solution)}\")"
   ]
  },
  {
   "cell_type": "code",
   "execution_count": 74,
   "metadata": {},
   "outputs": [],
   "source": [
    "assert np.allclose(solution, true_solution)"
   ]
  },
  {
   "cell_type": "code",
   "execution_count": 75,
   "metadata": {},
   "outputs": [
    {
     "data": {
      "image/png": "[encoded data removed]",
      "text/plain": [
       "<Figure size 640x480 with 1 Axes>"
      ]
     },
     "metadata": {},
     "output_type": "display_data"
    }
   ],
   "source": [
    "with localize_globals():\n",
    "    fig, ax = plt.subplots()\n",
    "    \n",
    "    ax.set_xlabel('Iteration')\n",
    "    ax.set_ylabel('Residual')\n",
    "    \n",
    "    ax.set_yscale('log')\n",
    "    \n",
    "    ax.plot(residuals)\n"
   ]
  }
 ],
 "metadata": {
  "kernelspec": {
   "display_name": "Python 3",
   "language": "python",
   "name": "python3"
  },
  "language_info": {
   "codemirror_mode": {
    "name": "ipython",
    "version": 3
   },
   "file_extension": ".py",
   "mimetype": "text/x-python",
   "name": "python",
   "nbconvert_exporter": "python",
   "pygments_lexer": "ipython3",
   "version": "3.10.0"
  },
  "orig_nbformat": 4
 },
 "nbformat": 4,
 "nbformat_minor": 2
}
